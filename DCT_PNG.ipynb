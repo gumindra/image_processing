{
  "nbformat": 4,
  "nbformat_minor": 0,
  "metadata": {
    "colab": {
      "provenance": [],
      "include_colab_link": true
    },
    "kernelspec": {
      "name": "python3",
      "display_name": "Python 3"
    },
    "language_info": {
      "name": "python"
    }
  },
  "cells": [
    {
      "cell_type": "markdown",
      "metadata": {
        "id": "view-in-github",
        "colab_type": "text"
      },
      "source": [
        "<a href=\"https://colab.research.google.com/github/gumindra/image_processing/blob/main/DCT_PNG.ipynb\" target=\"_parent\"><img src=\"https://colab.research.google.com/assets/colab-badge.svg\" alt=\"Open In Colab\"/></a>"
      ]
    },
    {
      "cell_type": "code",
      "source": [
        "import numpy as np\n",
        "from PIL import Image\n",
        "from scipy.fftpack import dct, idct\n",
        "import time\n",
        "\n",
        "def kompresi_gambar(nama_file, kualitas):\n",
        "  # Mulai mengukur waktu\n",
        "  start_time = time.time()\n",
        "\n",
        "  # Muat gambar dan konversi ke warna YCbCr\n",
        "  img = Image.open(nama_file).convert('YCbCr')\n",
        "\n",
        "    # Pisahkan gambar menjadi blok 8x8\n",
        "  lebar, tinggi = img.size\n",
        "  blok = []\n",
        "  for y in range(0, tinggi, 8):\n",
        "    for x in range(0, lebar, 8):\n",
        "        blok_gambar = img.crop((x, y, x+8, y+8))\n",
        "        blok.append(blok_gambar)\n",
        "\n",
        "  # Kompresi setiap blok menggunakan DCT\n",
        "  blok_kompresi = []\n",
        "  for blok_gambar in blok:\n",
        "\n",
        "    # Konversi blok menjadi array numpy\n",
        "    blok_arr = np.array(blok_gambar, dtype=np.float32)\n",
        "\n",
        "    # Lakukan DCT\n",
        "    dct_arr = dct(dct(blok_arr.T, norm='ortho').T, norm='ortho')\n",
        "\n",
        "    # Potong koefisien berdasarkan parameter kualitas\n",
        "    skala_kualitas = np.array([1, 1, kualitas], dtype=np.float32)\n",
        "    dct_arr /= skala_kualitas\n",
        "    dct_arr = np.round(dct_arr)\n",
        "\n",
        "    # Sisipkan blok yang telah dikompresi ke dalam list\n",
        "    blok_kompresi.append(dct_arr.astype(np.int16))\n",
        "\n",
        "  # Rekonstruksi gambar\n",
        "  blok_rekonstruksi = []\n",
        "  for blok_kompresi in blok_kompresi:\n",
        "\n",
        "    # Skalakan koefisien\n",
        "    blok_kompresi = blok_kompresi * skala_kualitas\n",
        "\n",
        "    # Lakukan inverse DCT\n",
        "    idct_arr = idct(idct(blok_kompresi.T, norm='ortho').T, norm='ortho')\n",
        "\n",
        "    # Konversi kembali ke PIL Image\n",
        "    idct_arr[idct_arr < 0] = 0\n",
        "    idct_arr[idct_arr > 180] = 180\n",
        "    idct_arr = idct_arr.astype(np.uint8)\n",
        "    idct_gambar = Image.fromarray(idct_arr, mode='YCbCr')\n",
        "    blok_rekonstruksi.append(idct_gambar)\n",
        "\n",
        "  # Gabungkan blok-blok menjadi satu gambar\n",
        "  gabungan_gambar = Image.new('YCbCr', (lebar, tinggi))\n",
        "  x, y = 0, 0\n",
        "  for blok_gambar in blok_rekonstruksi:\n",
        "    gabungan_gambar.paste(blok_gambar, (x, y))\n",
        "    x += 8\n",
        "    if x >= lebar:\n",
        "        x = 0\n",
        "        y += 8\n",
        "\n",
        "  # Konversi gambar kembali ke RGB dan simpan dalam format PNG\n",
        "  gambar_akhir = gabungan_gambar.convert('RGB')\n",
        "  gambar_akhir.save('kompresi.png', format='PNG')\n",
        "\n",
        "  # Selesai mengukur waktu\n",
        "  end_time = time.time()\n",
        "\n",
        "  # Durasi proses pengkompresan dalam detik\n",
        "  duration = end_time - start_time\n",
        "\n",
        "  # Tampilkan durasi proses\n",
        "  print(\"Durasi pengkompresan: %.2f detik\" % duration)\n",
        "\n",
        "  kompresi_gambar('test.png', 500)"
      ],
      "metadata": {
        "id": "VBZJQxk5PhKi"
      },
      "execution_count": null,
      "outputs": []
    },
    {
      "cell_type": "code",
      "source": [
        "kompresi_gambar('test.png', 500)"
      ],
      "metadata": {
        "id": "Z8ho_74SPjjO",
        "colab": {
          "base_uri": "https://localhost:8080/"
        },
        "outputId": "765a66bc-e570-4d2f-e1e2-db780d73664d"
      },
      "execution_count": null,
      "outputs": [
        {
          "output_type": "stream",
          "name": "stdout",
          "text": [
            "Durasi pengkompresan: 46.82 detik\n",
            "Durasi pengkompresan: 46.43 detik\n",
            "Durasi pengkompresan: 47.48 detik\n",
            "Durasi pengkompresan: 46.06 detik\n",
            "Durasi pengkompresan: 46.50 detik\n",
            "Durasi pengkompresan: 48.11 detik\n",
            "Durasi pengkompresan: 49.02 detik\n",
            "Durasi pengkompresan: 63.47 detik\n"
          ]
        }
      ]
    }
  ]
}